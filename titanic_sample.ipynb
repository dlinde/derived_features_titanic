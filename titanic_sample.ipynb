{
 "cells": [
  {
   "cell_type": "markdown",
   "metadata": {},
   "source": [
    "## Objectives\n",
    "### For this project, I used Kaggle's Titanic Dataset to:\n",
    "\n",
    "- Understand what factors explain who lived and died on the ship\n",
    "- Demonstrate how decision trees can reveal how those factors interact\n",
    "- Show how we can convert those insights into features that are legible to other estimators"
   ]
  },
  {
   "cell_type": "code",
   "execution_count": 1,
   "metadata": {},
   "outputs": [],
   "source": [
    "import pandas as pd\n",
    "import numpy as np\n",
    "from sklearn.tree import DecisionTreeClassifier\n",
    "from sklearn.linear_model import LogisticRegression\n",
    "from sklearn.metrics import confusion_matrix\n",
    "import seaborn as sns\n",
    "import matplotlib.pyplot as plt\n",
    "%matplotlib inline"
   ]
  },
  {
   "cell_type": "code",
   "execution_count": 2,
   "metadata": {},
   "outputs": [
    {
     "data": {
      "text/html": [
       "<div>\n",
       "<style scoped>\n",
       "    .dataframe tbody tr th:only-of-type {\n",
       "        vertical-align: middle;\n",
       "    }\n",
       "\n",
       "    .dataframe tbody tr th {\n",
       "        vertical-align: top;\n",
       "    }\n",
       "\n",
       "    .dataframe thead th {\n",
       "        text-align: right;\n",
       "    }\n",
       "</style>\n",
       "<table border=\"1\" class=\"dataframe\">\n",
       "  <thead>\n",
       "    <tr style=\"text-align: right;\">\n",
       "      <th></th>\n",
       "      <th>PassengerId</th>\n",
       "      <th>Survived</th>\n",
       "      <th>Pclass</th>\n",
       "      <th>Name</th>\n",
       "      <th>Sex</th>\n",
       "      <th>Age</th>\n",
       "      <th>SibSp</th>\n",
       "      <th>Parch</th>\n",
       "      <th>Ticket</th>\n",
       "      <th>Fare</th>\n",
       "      <th>Cabin</th>\n",
       "      <th>Embarked</th>\n",
       "    </tr>\n",
       "  </thead>\n",
       "  <tbody>\n",
       "    <tr>\n",
       "      <td>0</td>\n",
       "      <td>1</td>\n",
       "      <td>0</td>\n",
       "      <td>3</td>\n",
       "      <td>Braund, Mr. Owen Harris</td>\n",
       "      <td>male</td>\n",
       "      <td>22.0</td>\n",
       "      <td>1</td>\n",
       "      <td>0</td>\n",
       "      <td>A/5 21171</td>\n",
       "      <td>7.25</td>\n",
       "      <td>NaN</td>\n",
       "      <td>S</td>\n",
       "    </tr>\n",
       "  </tbody>\n",
       "</table>\n",
       "</div>"
      ],
      "text/plain": [
       "   PassengerId  Survived  Pclass                     Name   Sex   Age  SibSp  \\\n",
       "0            1         0       3  Braund, Mr. Owen Harris  male  22.0      1   \n",
       "\n",
       "   Parch     Ticket  Fare Cabin Embarked  \n",
       "0      0  A/5 21171  7.25   NaN        S  "
      ]
     },
     "execution_count": 2,
     "metadata": {},
     "output_type": "execute_result"
    }
   ],
   "source": [
    "# Read in the data.\n",
    "path = './datasets/titanic_train.csv'\n",
    "titanic = pd.read_csv(path)\n",
    "titanic.head(1)"
   ]
  },
  {
   "cell_type": "code",
   "execution_count": 3,
   "metadata": {},
   "outputs": [],
   "source": [
    "# create a test set and isolate that from training data; use random state for consistent replication\n",
    "holdout = titanic.sample(frac=.1,random_state=4).copy()\n",
    "titanic.drop(holdout.index,inplace=True)"
   ]
  },
  {
   "cell_type": "markdown",
   "metadata": {},
   "source": [
    "### Understanding the data"
   ]
  },
  {
   "cell_type": "code",
   "execution_count": 4,
   "metadata": {},
   "outputs": [
    {
     "name": "stdout",
     "output_type": "stream",
     "text": [
      "<class 'pandas.core.frame.DataFrame'>\n",
      "Int64Index: 802 entries, 0 to 890\n",
      "Data columns (total 12 columns):\n",
      "PassengerId    802 non-null int64\n",
      "Survived       802 non-null int64\n",
      "Pclass         802 non-null int64\n",
      "Name           802 non-null object\n",
      "Sex            802 non-null object\n",
      "Age            646 non-null float64\n",
      "SibSp          802 non-null int64\n",
      "Parch          802 non-null int64\n",
      "Ticket         802 non-null object\n",
      "Fare           802 non-null float64\n",
      "Cabin          192 non-null object\n",
      "Embarked       800 non-null object\n",
      "dtypes: float64(2), int64(5), object(5)\n",
      "memory usage: 81.5+ KB\n"
     ]
    }
   ],
   "source": [
    "# Survived, the target variable, is a boolean\n",
    "# Age and embarkments, potentially useful features, contain null values\n",
    "# Age is a float but it'd be easier to analyze as an int\n",
    "# Pclass is an integer datatype but actually a categorical variables\n",
    "titanic.info()"
   ]
  },
  {
   "cell_type": "code",
   "execution_count": 5,
   "metadata": {},
   "outputs": [],
   "source": [
    "# change non-null age values to an integer\n",
    "titanic['Age'] = titanic['Age'].round(0)"
   ]
  },
  {
   "cell_type": "code",
   "execution_count": 6,
   "metadata": {},
   "outputs": [
    {
     "data": {
      "text/plain": [
       "0    0.605985\n",
       "1    0.394015\n",
       "Name: Survived, dtype: float64"
      ]
     },
     "execution_count": 6,
     "metadata": {},
     "output_type": "execute_result"
    }
   ],
   "source": [
    "# 61.6% of passengers died\n",
    "# this is our baseline: we'd expect to be right 61.6% of the time just guessing every passenger died\n",
    "titanic.Survived.value_counts('mean')"
   ]
  },
  {
   "cell_type": "markdown",
   "metadata": {},
   "source": [
    "#### what explains who lived and died?"
   ]
  },
  {
   "cell_type": "code",
   "execution_count": 7,
   "metadata": {},
   "outputs": [],
   "source": [
    "def get_mean_count_survived(group_cols=None,new_cols=[]):\n",
    "    '''\n",
    "            Parameters:\n",
    "                    group_cols (list): A list of columns to group by Survived\n",
    "                    new_cols (list): A list of column names for the groupby dataframe\n",
    "\n",
    "            Returns:\n",
    "                    grouped_df (dataframe): A df with the input columns grouped by mean survival and a count of \n",
    "                                        passengers associated with a category (to ensure we don't extrapolate from a \n",
    "                                        small sample)\n",
    "    '''\n",
    "    grouped_df = titanic.groupby(group_cols)['Survived'].agg(['mean','count']).reset_index()\n",
    "    if len(new_cols)>0:\n",
    "        grouped_df.columns=new_cols\n",
    "    return grouped_df"
   ]
  },
  {
   "cell_type": "markdown",
   "metadata": {},
   "source": [
    "- age"
   ]
  },
  {
   "cell_type": "code",
   "execution_count": 8,
   "metadata": {},
   "outputs": [
    {
     "data": {
      "image/png": "[encoded data removed]",
      "text/plain": [
       "<Figure size 432x288 with 1 Axes>"
      ]
     },
     "metadata": {
      "needs_background": "light"
     },
     "output_type": "display_data"
    }
   ],
   "source": [
    "# age does not seem especially revealing\n",
    "sns.boxplot('Survived','Age',data=titanic);"
   ]
  },
  {
   "cell_type": "code",
   "execution_count": 9,
   "metadata": {},
   "outputs": [
    {
     "data": {
      "text/html": [
       "<div>\n",
       "<style scoped>\n",
       "    .dataframe tbody tr th:only-of-type {\n",
       "        vertical-align: middle;\n",
       "    }\n",
       "\n",
       "    .dataframe tbody tr th {\n",
       "        vertical-align: top;\n",
       "    }\n",
       "\n",
       "    .dataframe thead th {\n",
       "        text-align: right;\n",
       "    }\n",
       "</style>\n",
       "<table border=\"1\" class=\"dataframe\">\n",
       "  <thead>\n",
       "    <tr style=\"text-align: right;\">\n",
       "      <th></th>\n",
       "      <th>Age</th>\n",
       "      <th>mean</th>\n",
       "      <th>count</th>\n",
       "    </tr>\n",
       "  </thead>\n",
       "  <tbody>\n",
       "    <tr>\n",
       "      <td>0</td>\n",
       "      <td>0.0</td>\n",
       "      <td>1.000000</td>\n",
       "      <td>1</td>\n",
       "    </tr>\n",
       "    <tr>\n",
       "      <td>1</td>\n",
       "      <td>1.0</td>\n",
       "      <td>0.846154</td>\n",
       "      <td>13</td>\n",
       "    </tr>\n",
       "    <tr>\n",
       "      <td>2</td>\n",
       "      <td>2.0</td>\n",
       "      <td>0.142857</td>\n",
       "      <td>7</td>\n",
       "    </tr>\n",
       "    <tr>\n",
       "      <td>3</td>\n",
       "      <td>3.0</td>\n",
       "      <td>0.833333</td>\n",
       "      <td>6</td>\n",
       "    </tr>\n",
       "    <tr>\n",
       "      <td>4</td>\n",
       "      <td>4.0</td>\n",
       "      <td>0.777778</td>\n",
       "      <td>9</td>\n",
       "    </tr>\n",
       "    <tr>\n",
       "      <td>5</td>\n",
       "      <td>5.0</td>\n",
       "      <td>1.000000</td>\n",
       "      <td>3</td>\n",
       "    </tr>\n",
       "    <tr>\n",
       "      <td>6</td>\n",
       "      <td>6.0</td>\n",
       "      <td>0.500000</td>\n",
       "      <td>2</td>\n",
       "    </tr>\n",
       "    <tr>\n",
       "      <td>7</td>\n",
       "      <td>7.0</td>\n",
       "      <td>0.333333</td>\n",
       "      <td>3</td>\n",
       "    </tr>\n",
       "    <tr>\n",
       "      <td>8</td>\n",
       "      <td>8.0</td>\n",
       "      <td>0.500000</td>\n",
       "      <td>4</td>\n",
       "    </tr>\n",
       "    <tr>\n",
       "      <td>9</td>\n",
       "      <td>9.0</td>\n",
       "      <td>0.285714</td>\n",
       "      <td>7</td>\n",
       "    </tr>\n",
       "  </tbody>\n",
       "</table>\n",
       "</div>"
      ],
      "text/plain": [
       "   Age      mean  count\n",
       "0  0.0  1.000000      1\n",
       "1  1.0  0.846154     13\n",
       "2  2.0  0.142857      7\n",
       "3  3.0  0.833333      6\n",
       "4  4.0  0.777778      9\n",
       "5  5.0  1.000000      3\n",
       "6  6.0  0.500000      2\n",
       "7  7.0  0.333333      3\n",
       "8  8.0  0.500000      4\n",
       "9  9.0  0.285714      7"
      ]
     },
     "execution_count": 9,
     "metadata": {},
     "output_type": "execute_result"
    }
   ],
   "source": [
    "# but small children seem to be disproportionately likely to survive\n",
    "# we can anticipate this if we know something about e.g. early 20th century chivalry, but a decision tree also\n",
    "# picks out this relationship\n",
    "age = get_mean_count_survived(group_cols=['Age'])\n",
    "age[age.Age<10]"
   ]
  },
  {
   "cell_type": "markdown",
   "metadata": {},
   "source": [
    "- embarkments"
   ]
  },
  {
   "cell_type": "code",
   "execution_count": 10,
   "metadata": {},
   "outputs": [
    {
     "data": {
      "text/html": [
       "<div>\n",
       "<style scoped>\n",
       "    .dataframe tbody tr th:only-of-type {\n",
       "        vertical-align: middle;\n",
       "    }\n",
       "\n",
       "    .dataframe tbody tr th {\n",
       "        vertical-align: top;\n",
       "    }\n",
       "\n",
       "    .dataframe thead th {\n",
       "        text-align: right;\n",
       "    }\n",
       "</style>\n",
       "<table border=\"1\" class=\"dataframe\">\n",
       "  <thead>\n",
       "    <tr style=\"text-align: right;\">\n",
       "      <th></th>\n",
       "      <th>Embarked</th>\n",
       "      <th>mean</th>\n",
       "      <th>count</th>\n",
       "    </tr>\n",
       "  </thead>\n",
       "  <tbody>\n",
       "    <tr>\n",
       "      <td>0</td>\n",
       "      <td>C</td>\n",
       "      <td>0.560510</td>\n",
       "      <td>157</td>\n",
       "    </tr>\n",
       "    <tr>\n",
       "      <td>1</td>\n",
       "      <td>Q</td>\n",
       "      <td>0.376812</td>\n",
       "      <td>69</td>\n",
       "    </tr>\n",
       "    <tr>\n",
       "      <td>2</td>\n",
       "      <td>S</td>\n",
       "      <td>0.348432</td>\n",
       "      <td>574</td>\n",
       "    </tr>\n",
       "  </tbody>\n",
       "</table>\n",
       "</div>"
      ],
      "text/plain": [
       "  Embarked      mean  count\n",
       "0        C  0.560510    157\n",
       "1        Q  0.376812     69\n",
       "2        S  0.348432    574"
      ]
     },
     "execution_count": 10,
     "metadata": {},
     "output_type": "execute_result"
    }
   ],
   "source": [
    "# surival rates for embarkments do appear to be significantly different\n",
    "emb = get_mean_count_survived(group_cols=['Embarked'])\n",
    "emb"
   ]
  },
  {
   "cell_type": "markdown",
   "metadata": {},
   "source": [
    "- sex"
   ]
  },
  {
   "cell_type": "code",
   "execution_count": 11,
   "metadata": {},
   "outputs": [
    {
     "data": {
      "text/html": [
       "<div>\n",
       "<style scoped>\n",
       "    .dataframe tbody tr th:only-of-type {\n",
       "        vertical-align: middle;\n",
       "    }\n",
       "\n",
       "    .dataframe tbody tr th {\n",
       "        vertical-align: top;\n",
       "    }\n",
       "\n",
       "    .dataframe thead th {\n",
       "        text-align: right;\n",
       "    }\n",
       "</style>\n",
       "<table border=\"1\" class=\"dataframe\">\n",
       "  <thead>\n",
       "    <tr style=\"text-align: right;\">\n",
       "      <th></th>\n",
       "      <th>Sex</th>\n",
       "      <th>mean</th>\n",
       "      <th>count</th>\n",
       "    </tr>\n",
       "  </thead>\n",
       "  <tbody>\n",
       "    <tr>\n",
       "      <td>0</td>\n",
       "      <td>female</td>\n",
       "      <td>0.743945</td>\n",
       "      <td>289</td>\n",
       "    </tr>\n",
       "    <tr>\n",
       "      <td>1</td>\n",
       "      <td>male</td>\n",
       "      <td>0.196881</td>\n",
       "      <td>513</td>\n",
       "    </tr>\n",
       "  </tbody>\n",
       "</table>\n",
       "</div>"
      ],
      "text/plain": [
       "      Sex      mean  count\n",
       "0  female  0.743945    289\n",
       "1    male  0.196881    513"
      ]
     },
     "execution_count": 11,
     "metadata": {},
     "output_type": "execute_result"
    }
   ],
   "source": [
    "# women are dramatically more likely to survive than men\n",
    "sex = get_mean_count_survived(group_cols=['Sex'])\n",
    "sex"
   ]
  },
  {
   "cell_type": "markdown",
   "metadata": {},
   "source": [
    "- passenger class"
   ]
  },
  {
   "cell_type": "code",
   "execution_count": 12,
   "metadata": {},
   "outputs": [
    {
     "data": {
      "text/html": [
       "<div>\n",
       "<style scoped>\n",
       "    .dataframe tbody tr th:only-of-type {\n",
       "        vertical-align: middle;\n",
       "    }\n",
       "\n",
       "    .dataframe tbody tr th {\n",
       "        vertical-align: top;\n",
       "    }\n",
       "\n",
       "    .dataframe thead th {\n",
       "        text-align: right;\n",
       "    }\n",
       "</style>\n",
       "<table border=\"1\" class=\"dataframe\">\n",
       "  <thead>\n",
       "    <tr style=\"text-align: right;\">\n",
       "      <th></th>\n",
       "      <th>Pclass</th>\n",
       "      <th>mean</th>\n",
       "      <th>count</th>\n",
       "    </tr>\n",
       "  </thead>\n",
       "  <tbody>\n",
       "    <tr>\n",
       "      <td>0</td>\n",
       "      <td>1</td>\n",
       "      <td>0.625616</td>\n",
       "      <td>203</td>\n",
       "    </tr>\n",
       "    <tr>\n",
       "      <td>1</td>\n",
       "      <td>2</td>\n",
       "      <td>0.490566</td>\n",
       "      <td>159</td>\n",
       "    </tr>\n",
       "    <tr>\n",
       "      <td>2</td>\n",
       "      <td>3</td>\n",
       "      <td>0.252273</td>\n",
       "      <td>440</td>\n",
       "    </tr>\n",
       "  </tbody>\n",
       "</table>\n",
       "</div>"
      ],
      "text/plain": [
       "   Pclass      mean  count\n",
       "0       1  0.625616    203\n",
       "1       2  0.490566    159\n",
       "2       3  0.252273    440"
      ]
     },
     "execution_count": 12,
     "metadata": {},
     "output_type": "execute_result"
    }
   ],
   "source": [
    "# the higher the passenger class, the likelier the passenger is to survive\n",
    "pclass = get_mean_count_survived(group_cols=['Pclass'])\n",
    "pclass"
   ]
  },
  {
   "cell_type": "markdown",
   "metadata": {},
   "source": [
    "- sex and passenger class"
   ]
  },
  {
   "cell_type": "code",
   "execution_count": 13,
   "metadata": {},
   "outputs": [
    {
     "data": {
      "text/html": [
       "<div>\n",
       "<style scoped>\n",
       "    .dataframe tbody tr th:only-of-type {\n",
       "        vertical-align: middle;\n",
       "    }\n",
       "\n",
       "    .dataframe tbody tr th {\n",
       "        vertical-align: top;\n",
       "    }\n",
       "\n",
       "    .dataframe thead th {\n",
       "        text-align: right;\n",
       "    }\n",
       "</style>\n",
       "<table border=\"1\" class=\"dataframe\">\n",
       "  <thead>\n",
       "    <tr style=\"text-align: right;\">\n",
       "      <th></th>\n",
       "      <th>Pclass</th>\n",
       "      <th>Sex</th>\n",
       "      <th>sex_pclass_rate</th>\n",
       "      <th>count</th>\n",
       "    </tr>\n",
       "  </thead>\n",
       "  <tbody>\n",
       "    <tr>\n",
       "      <td>0</td>\n",
       "      <td>1</td>\n",
       "      <td>female</td>\n",
       "      <td>0.965517</td>\n",
       "      <td>87</td>\n",
       "    </tr>\n",
       "    <tr>\n",
       "      <td>1</td>\n",
       "      <td>1</td>\n",
       "      <td>male</td>\n",
       "      <td>0.370690</td>\n",
       "      <td>116</td>\n",
       "    </tr>\n",
       "    <tr>\n",
       "      <td>2</td>\n",
       "      <td>2</td>\n",
       "      <td>female</td>\n",
       "      <td>0.914286</td>\n",
       "      <td>70</td>\n",
       "    </tr>\n",
       "    <tr>\n",
       "      <td>3</td>\n",
       "      <td>2</td>\n",
       "      <td>male</td>\n",
       "      <td>0.157303</td>\n",
       "      <td>89</td>\n",
       "    </tr>\n",
       "    <tr>\n",
       "      <td>4</td>\n",
       "      <td>3</td>\n",
       "      <td>female</td>\n",
       "      <td>0.507576</td>\n",
       "      <td>132</td>\n",
       "    </tr>\n",
       "    <tr>\n",
       "      <td>5</td>\n",
       "      <td>3</td>\n",
       "      <td>male</td>\n",
       "      <td>0.142857</td>\n",
       "      <td>308</td>\n",
       "    </tr>\n",
       "  </tbody>\n",
       "</table>\n",
       "</div>"
      ],
      "text/plain": [
       "   Pclass     Sex  sex_pclass_rate  count\n",
       "0       1  female         0.965517     87\n",
       "1       1    male         0.370690    116\n",
       "2       2  female         0.914286     70\n",
       "3       2    male         0.157303     89\n",
       "4       3  female         0.507576    132\n",
       "5       3    male         0.142857    308"
      ]
     },
     "execution_count": 13,
     "metadata": {},
     "output_type": "execute_result"
    }
   ],
   "source": [
    "# looking at the combination of passenger class and sex shows how much likelier women in the same passenger class\n",
    "# were to survive than men\n",
    "# we could have real knowledge that leads us to this insight, or else stumble on it, or otherwise have it revealed\n",
    "# to us by looking at a decision tree\n",
    "sex_pclass = get_mean_count_survived(group_cols=['Pclass','Sex'],new_cols=['Pclass','Sex','sex_pclass_rate','count'])\n",
    "sex_pclass"
   ]
  },
  {
   "cell_type": "code",
   "execution_count": 14,
   "metadata": {},
   "outputs": [
    {
     "data": {
      "image/png": "[encoded data removed]",
      "text/plain": [
       "<Figure size 432x288 with 1 Axes>"
      ]
     },
     "metadata": {
      "needs_background": "light"
     },
     "output_type": "display_data"
    }
   ],
   "source": [
    "sns.barplot(x='Pclass',y='sex_pclass_rate',data=sex_pclass,hue='Sex');"
   ]
  },
  {
   "cell_type": "markdown",
   "metadata": {},
   "source": [
    "### Preparing Data\n",
    "#### nonlinear data"
   ]
  },
  {
   "cell_type": "code",
   "execution_count": 15,
   "metadata": {},
   "outputs": [],
   "source": [
    "def make_X_y(df,feature_cols=None,dummy_cols=None,drop_first=False):\n",
    "    '''\n",
    "            Parameters:\n",
    "                    df (dataframe): A dataframe containing all of our training or testing data\n",
    "                    feature_cols (list): A list of features to use in predictive model\n",
    "                    dummy_cols (list): A list of features to get dummy variables for\n",
    "                    drop_first (bool): A parameter in pd.get_dummies() function\n",
    "\n",
    "            Returns:\n",
    "                    x (dataframe): A dataframe of subset, formatted train or test features\n",
    "                    y (series): A pandas series of the target variable  \n",
    "    '''\n",
    "    x = df[feature_cols].copy()\n",
    "    # use dummy variables because categorical variables have no numeric relationship\n",
    "    x = pd.get_dummies(x,columns=dummy_cols,drop_first=drop_first)\n",
    "    y = df.Survived\n",
    "    return x, y"
   ]
  },
  {
   "cell_type": "code",
   "execution_count": 16,
   "metadata": {},
   "outputs": [],
   "source": [
    "# Fill in the missing values for age. Median is immune to outliers; no obvious reason to impute with another value.\n",
    "titanic.Age.fillna(titanic.Age.median(), inplace=True)\n",
    "holdout.Age.fillna(titanic.Age.median(), inplace=True)"
   ]
  },
  {
   "cell_type": "code",
   "execution_count": 17,
   "metadata": {},
   "outputs": [
    {
     "data": {
      "text/html": [
       "<div>\n",
       "<style scoped>\n",
       "    .dataframe tbody tr th:only-of-type {\n",
       "        vertical-align: middle;\n",
       "    }\n",
       "\n",
       "    .dataframe tbody tr th {\n",
       "        vertical-align: top;\n",
       "    }\n",
       "\n",
       "    .dataframe thead th {\n",
       "        text-align: right;\n",
       "    }\n",
       "</style>\n",
       "<table border=\"1\" class=\"dataframe\">\n",
       "  <thead>\n",
       "    <tr style=\"text-align: right;\">\n",
       "      <th></th>\n",
       "      <th>Age</th>\n",
       "      <th>Sex</th>\n",
       "      <th>Embarked_C</th>\n",
       "      <th>Embarked_Q</th>\n",
       "      <th>Embarked_S</th>\n",
       "      <th>Pclass_1</th>\n",
       "      <th>Pclass_2</th>\n",
       "      <th>Pclass_3</th>\n",
       "    </tr>\n",
       "  </thead>\n",
       "  <tbody>\n",
       "    <tr>\n",
       "      <td>0</td>\n",
       "      <td>22.0</td>\n",
       "      <td>1</td>\n",
       "      <td>0</td>\n",
       "      <td>0</td>\n",
       "      <td>1</td>\n",
       "      <td>0</td>\n",
       "      <td>0</td>\n",
       "      <td>1</td>\n",
       "    </tr>\n",
       "  </tbody>\n",
       "</table>\n",
       "</div>"
      ],
      "text/plain": [
       "    Age  Sex  Embarked_C  Embarked_Q  Embarked_S  Pclass_1  Pclass_2  Pclass_3\n",
       "0  22.0    1           0           0           1         0         0         1"
      ]
     },
     "execution_count": 17,
     "metadata": {},
     "output_type": "execute_result"
    }
   ],
   "source": [
    "X_train_nonlinear, y_train_nonlinear = make_X_y(titanic,feature_cols=['Embarked','Pclass','Age','Sex'],\n",
    "                                                dummy_cols=['Embarked','Pclass'])\n",
    "# convert sex to numeric\n",
    "X_train_nonlinear['Sex'] = X_train_nonlinear['Sex'].map(lambda x: 1 if x=='male' else 0)\n",
    "X_train_nonlinear.head(1)"
   ]
  },
  {
   "cell_type": "code",
   "execution_count": 18,
   "metadata": {},
   "outputs": [],
   "source": [
    "X_test_nonlinear, y_test_nonlinear = make_X_y(holdout,feature_cols=['Embarked','Pclass','Age','Sex'],\n",
    "                                                dummy_cols=['Embarked','Pclass'])\n",
    "X_test_nonlinear['Sex'] = X_test_nonlinear['Sex'].map(lambda x: 1 if x=='male' else 0)"
   ]
  },
  {
   "cell_type": "markdown",
   "metadata": {},
   "source": [
    "#### linear data"
   ]
  },
  {
   "cell_type": "code",
   "execution_count": 19,
   "metadata": {},
   "outputs": [],
   "source": [
    "# add the surival rate for each gender in each passenger class to test and train\n",
    "titanic = titanic.merge(sex_pclass.drop('count',axis=1),\n",
    "                    on=['Sex','Pclass'])\n",
    "holdout = holdout.merge(sex_pclass.drop('count',axis=1),\n",
    "                    on=['Sex','Pclass'])"
   ]
  },
  {
   "cell_type": "code",
   "execution_count": 20,
   "metadata": {},
   "outputs": [
    {
     "data": {
      "text/html": [
       "<div>\n",
       "<style scoped>\n",
       "    .dataframe tbody tr th:only-of-type {\n",
       "        vertical-align: middle;\n",
       "    }\n",
       "\n",
       "    .dataframe tbody tr th {\n",
       "        vertical-align: top;\n",
       "    }\n",
       "\n",
       "    .dataframe thead th {\n",
       "        text-align: right;\n",
       "    }\n",
       "</style>\n",
       "<table border=\"1\" class=\"dataframe\">\n",
       "  <thead>\n",
       "    <tr style=\"text-align: right;\">\n",
       "      <th></th>\n",
       "      <th>sex_pclass_rate</th>\n",
       "      <th>Age</th>\n",
       "      <th>Embarked_Q</th>\n",
       "      <th>Embarked_S</th>\n",
       "    </tr>\n",
       "  </thead>\n",
       "  <tbody>\n",
       "    <tr>\n",
       "      <td>0</td>\n",
       "      <td>0.142857</td>\n",
       "      <td>0</td>\n",
       "      <td>0</td>\n",
       "      <td>1</td>\n",
       "    </tr>\n",
       "  </tbody>\n",
       "</table>\n",
       "</div>"
      ],
      "text/plain": [
       "   sex_pclass_rate  Age  Embarked_Q  Embarked_S\n",
       "0         0.142857    0           0           1"
      ]
     },
     "execution_count": 20,
     "metadata": {},
     "output_type": "execute_result"
    }
   ],
   "source": [
    "# we drop the first dummy variable in a linear model because that variable gets baked into the intercept \n",
    "# but it wouldn't make sense to drop a dummy variable for other estimators without an intercept\n",
    "X_train_linear, y_train_linear = make_X_y(titanic,feature_cols=['Embarked','sex_pclass_rate','Age'],\n",
    "                                                dummy_cols=['Embarked'],drop_first=True)\n",
    "# convert age to childhood bool\n",
    "X_train_linear['Age'] = X_train_linear['Age'].map(lambda x: 1 if x<9 else 0)\n",
    "# sex and pclass are now represented as one feature, where the value is highly correlated with survival\n",
    "X_train_linear.head(1)"
   ]
  },
  {
   "cell_type": "code",
   "execution_count": 21,
   "metadata": {},
   "outputs": [],
   "source": [
    "X_test_linear, y_test_linear = make_X_y(holdout,feature_cols=['Embarked','sex_pclass_rate','Age'],\n",
    "                                                dummy_cols=['Embarked'],drop_first=True)\n",
    "X_test_linear['Age'] = X_test_linear['Age'].map(lambda x: 1 if x<9 else 0)"
   ]
  },
  {
   "cell_type": "markdown",
   "metadata": {},
   "source": [
    "### Modeling"
   ]
  },
  {
   "cell_type": "code",
   "execution_count": 22,
   "metadata": {},
   "outputs": [],
   "source": [
    "def instantiate_fit_score(estimator=None,X_train=None,y_train=None,X_test=None,y_test=None):\n",
    "    '''\n",
    "            Parameters:\n",
    "                    estimator (sklearn object): A classifier with hyperparameters specified\n",
    "                    X_train (dataframe): A dataframe with training data feature subset\n",
    "                    y_train (series): A series with training data target variable\n",
    "                    X_test (bool): A dataframe with testing data feature subset\n",
    "                    y_test (series): A series with testing data target variable\n",
    "\n",
    "            Returns:\n",
    "                    clf (sklearn object): A model object fit on training data\n",
    "    '''\n",
    "    clf = estimator\n",
    "    clf.fit(X_train, y_train)\n",
    "    print('accuracy score: '+str(clf.score(X_test, y_test)))\n",
    "    return clf"
   ]
  },
  {
   "cell_type": "code",
   "execution_count": 23,
   "metadata": {},
   "outputs": [],
   "source": [
    "def make_conmat(clf=None,X_test=None,y_test=None):\n",
    "    '''\n",
    "            Parameters:\n",
    "                    clf (sklearn object): A model object fit on training data\n",
    "                    X_test (bool): A dataframe with testing data feature subset\n",
    "                    y_test (series): A series with testing data target variable\n",
    "\n",
    "            Returns:\n",
    "                    confusion (dataframe): A confusion matrix of model performance on test data\n",
    "    '''\n",
    "    # get predictions for X test values \n",
    "    preds = clf.predict(X_test)\n",
    "    # pass predictions and y test values into function\n",
    "    conmat = confusion_matrix(y_test, preds)\n",
    "    confusion = pd.DataFrame(conmat, index=['Actual: 0','Actual: 1'],\n",
    "                             columns=['Pred: 0','Pred: 1'])\n",
    "    return confusion"
   ]
  },
  {
   "cell_type": "markdown",
   "metadata": {},
   "source": [
    "- simplified decision tree with nonlinear features"
   ]
  },
  {
   "cell_type": "code",
   "execution_count": 24,
   "metadata": {},
   "outputs": [
    {
     "name": "stdout",
     "output_type": "stream",
     "text": [
      "accuracy score: 0.8876404494382022\n"
     ]
    },
    {
     "data": {
      "text/html": [
       "<div>\n",
       "<style scoped>\n",
       "    .dataframe tbody tr th:only-of-type {\n",
       "        vertical-align: middle;\n",
       "    }\n",
       "\n",
       "    .dataframe tbody tr th {\n",
       "        vertical-align: top;\n",
       "    }\n",
       "\n",
       "    .dataframe thead th {\n",
       "        text-align: right;\n",
       "    }\n",
       "</style>\n",
       "<table border=\"1\" class=\"dataframe\">\n",
       "  <thead>\n",
       "    <tr style=\"text-align: right;\">\n",
       "      <th></th>\n",
       "      <th>Pred: 0</th>\n",
       "      <th>Pred: 1</th>\n",
       "    </tr>\n",
       "  </thead>\n",
       "  <tbody>\n",
       "    <tr>\n",
       "      <td>Actual: 0</td>\n",
       "      <td>61</td>\n",
       "      <td>2</td>\n",
       "    </tr>\n",
       "    <tr>\n",
       "      <td>Actual: 1</td>\n",
       "      <td>8</td>\n",
       "      <td>18</td>\n",
       "    </tr>\n",
       "  </tbody>\n",
       "</table>\n",
       "</div>"
      ],
      "text/plain": [
       "           Pred: 0  Pred: 1\n",
       "Actual: 0       61        2\n",
       "Actual: 1        8       18"
      ]
     },
     "execution_count": 24,
     "metadata": {},
     "output_type": "execute_result"
    }
   ],
   "source": [
    "# parameters in treeclf to make tree for visualization and prevent overfitting\n",
    "treeclf = instantiate_fit_score(estimator=DecisionTreeClassifier(max_depth=3,min_samples_leaf=10,\n",
    "                min_impurity_decrease=.001),X_train=X_train_nonlinear,y_train=y_train_nonlinear,\n",
    "                X_test=X_test_nonlinear,y_test=y_test_nonlinear)\n",
    "confusion_treeclf_nonlinear = make_conmat(clf=treeclf,X_test=X_test_nonlinear,y_test=y_test_nonlinear)\n",
    "confusion_treeclf_nonlinear"
   ]
  },
  {
   "cell_type": "code",
   "execution_count": 25,
   "metadata": {},
   "outputs": [],
   "source": [
    "# Create a Graphviz file.\n",
    "#from sklearn.tree import export_graphviz\n",
    "# Create a Graphviz file.\n",
    "#export_graphviz(treeclf, out_file='./tree_titanic.dot', feature_names=X_test_nonlinear.columns)\n",
    "# use dot -Tpng tree_titanic.dot -o tree_titanic.png to convert to png\n",
    "\n",
    "# this tree from an earlier implementation\n",
    "# we see women in first and second class are overwhelmingly like to survive (149/157)\n",
    "# women in third class who did not embrak from S were much more likely to survive than those who did\n",
    "# male children under 10 were 50/50 to survive\n",
    "# among other men, the best path to survival was being in first class and not being old"
   ]
  },
  {
   "cell_type": "markdown",
   "metadata": {},
   "source": [
    "![](tree_titanic.png)"
   ]
  },
  {
   "cell_type": "markdown",
   "metadata": {},
   "source": [
    "- logistic regression with nonlinear features"
   ]
  },
  {
   "cell_type": "code",
   "execution_count": 26,
   "metadata": {},
   "outputs": [
    {
     "name": "stdout",
     "output_type": "stream",
     "text": [
      "accuracy score: 0.8314606741573034\n"
     ]
    },
    {
     "data": {
      "text/html": [
       "<div>\n",
       "<style scoped>\n",
       "    .dataframe tbody tr th:only-of-type {\n",
       "        vertical-align: middle;\n",
       "    }\n",
       "\n",
       "    .dataframe tbody tr th {\n",
       "        vertical-align: top;\n",
       "    }\n",
       "\n",
       "    .dataframe thead th {\n",
       "        text-align: right;\n",
       "    }\n",
       "</style>\n",
       "<table border=\"1\" class=\"dataframe\">\n",
       "  <thead>\n",
       "    <tr style=\"text-align: right;\">\n",
       "      <th></th>\n",
       "      <th>Pred: 0</th>\n",
       "      <th>Pred: 1</th>\n",
       "    </tr>\n",
       "  </thead>\n",
       "  <tbody>\n",
       "    <tr>\n",
       "      <td>Actual: 0</td>\n",
       "      <td>56</td>\n",
       "      <td>7</td>\n",
       "    </tr>\n",
       "    <tr>\n",
       "      <td>Actual: 1</td>\n",
       "      <td>8</td>\n",
       "      <td>18</td>\n",
       "    </tr>\n",
       "  </tbody>\n",
       "</table>\n",
       "</div>"
      ],
      "text/plain": [
       "           Pred: 0  Pred: 1\n",
       "Actual: 0       56        7\n",
       "Actual: 1        8       18"
      ]
     },
     "execution_count": 26,
     "metadata": {},
     "output_type": "execute_result"
    }
   ],
   "source": [
    "# the logistic regression underperforms the decision tree\n",
    "logr_nonlinear = instantiate_fit_score(estimator=LogisticRegression(solver='liblinear'),X_train=X_train_nonlinear,\n",
    "                             y_train=y_train_nonlinear,X_test=X_test_nonlinear,y_test=y_test_nonlinear)\n",
    "confusion_logr_nonlinear = make_conmat(clf=logr_nonlinear,X_test=X_test_nonlinear,y_test=y_test_nonlinear)\n",
    "confusion_logr_nonlinear"
   ]
  },
  {
   "cell_type": "markdown",
   "metadata": {},
   "source": [
    "- logistic regression with linear features"
   ]
  },
  {
   "cell_type": "code",
   "execution_count": 27,
   "metadata": {},
   "outputs": [
    {
     "name": "stdout",
     "output_type": "stream",
     "text": [
      "accuracy score: 0.8764044943820225\n"
     ]
    },
    {
     "data": {
      "text/html": [
       "<div>\n",
       "<style scoped>\n",
       "    .dataframe tbody tr th:only-of-type {\n",
       "        vertical-align: middle;\n",
       "    }\n",
       "\n",
       "    .dataframe tbody tr th {\n",
       "        vertical-align: top;\n",
       "    }\n",
       "\n",
       "    .dataframe thead th {\n",
       "        text-align: right;\n",
       "    }\n",
       "</style>\n",
       "<table border=\"1\" class=\"dataframe\">\n",
       "  <thead>\n",
       "    <tr style=\"text-align: right;\">\n",
       "      <th></th>\n",
       "      <th>Pred: 0</th>\n",
       "      <th>Pred: 1</th>\n",
       "    </tr>\n",
       "  </thead>\n",
       "  <tbody>\n",
       "    <tr>\n",
       "      <td>Actual: 0</td>\n",
       "      <td>60</td>\n",
       "      <td>3</td>\n",
       "    </tr>\n",
       "    <tr>\n",
       "      <td>Actual: 1</td>\n",
       "      <td>8</td>\n",
       "      <td>18</td>\n",
       "    </tr>\n",
       "  </tbody>\n",
       "</table>\n",
       "</div>"
      ],
      "text/plain": [
       "           Pred: 0  Pred: 1\n",
       "Actual: 0       60        3\n",
       "Actual: 1        8       18"
      ]
     },
     "execution_count": 27,
     "metadata": {},
     "output_type": "execute_result"
    }
   ],
   "source": [
    "# but when we run the logistic regression again with more linear features, we cut down on false positives by 4 and\n",
    "# mirror performance of decision tree\n",
    "logr_linear = instantiate_fit_score(estimator=LogisticRegression(solver='liblinear'),X_train=X_train_linear,\n",
    "                             y_train=y_train_linear,X_test=X_test_linear,y_test=y_test_linear)\n",
    "confusion_treeclf_linear = make_conmat(clf=logr_linear,X_test=X_test_linear,y_test=y_test_linear)\n",
    "confusion_treeclf_linear"
   ]
  },
  {
   "cell_type": "code",
   "execution_count": null,
   "metadata": {},
   "outputs": [],
   "source": []
  }
 ],
 "metadata": {
  "kernelspec": {
   "display_name": "Python 3",
   "language": "python",
   "name": "python3"
  },
  "language_info": {
   "codemirror_mode": {
    "name": "ipython",
    "version": 3
   },
   "file_extension": ".py",
   "mimetype": "text/x-python",
   "name": "python",
   "nbconvert_exporter": "python",
   "pygments_lexer": "ipython3",
   "version": "3.7.4"
  }
 },
 "nbformat": 4,
 "nbformat_minor": 2
}
